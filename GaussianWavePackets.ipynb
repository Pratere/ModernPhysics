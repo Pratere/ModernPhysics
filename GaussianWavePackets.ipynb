{
  "cells": [
    {
      "metadata": {},
      "cell_type": "markdown",
      "source": "## Gaussian Wave Packet Widget"
    },
    {
      "metadata": {
        "trusted": true
      },
      "cell_type": "code",
      "source": "# setup \nimport numpy as np\nimport sympy as sp\nsp.init_printing(use_latex='mathjax')\n\nimport matplotlib.pyplot as plt\nplt.rcParams['figure.figsize'] = (20, 20)  # (width, height)\nplt.rcParams['font.size'] = 14\nplt.rcParams['legend.fontsize'] = 16\nfrom matplotlib import patches\n\n#get_ipython().magic('matplotlib')  # separate window\nget_ipython().magic('matplotlib inline') # inline plotting\n\nfrom __future__ import print_function\nfrom ipywidgets import interact, interactive, fixed, interact_manual\nimport ipywidgets as widgets\n\ndef packet(sigma):\n    numks = 200\n    spacing = 1\n    ksarr = np.arange(1, numks+1, spacing) # wavenumbers go from 1 to numks\n    Aks = np.exp(-((ksarr-numks/2)/np.sqrt(2)/sigma)**2) # a gaussian centered \n    ksarr = ksarr * 1e5\n    sigma = sigma * 1e5\n    \n    xs = np.arange(-0.5, 0.5, 1/numks) # The x values for our sine waves.\n    xs = xs * 1e-5\n    kxs = np.ones((numks,numks)) # Create a matrix for kx values to simplify calculations later.\n    kxs = kxs[:,0:numks]*xs # Fill the kx matrix with x values along the rows.\n    kxs = kxs[0:numks, :].T*ksarr # Multiply each column by its appropriate k value.\n    arrlen = np.size(kxs)\n    Axs = np.zeros((numks,numks)) # Create a matrix for the sine waves.\n    Axs[:,0:numks]=Aks*np.sin(kxs) # Fill the matrix with the appropriate sine waves.\n    onesies = np.ones(numks)\n    waves = np.matmul(Axs, onesies) \n    \n    plt.figure(1)\n    plt.rcParams.update({'font.size': 20})\n    plt.rcParams.update({'legend.fontsize' : 24})\n    plt.subplot(311)\n    plt.plot(ksarr, Aks)\n    plt.title('Wavenumber Distribution')\n    plt.xlabel('k (1/m)')\n    plt.ylabel('A(k)')\n    plt.subplot(312)\n    plt.plot(xs,Axs[:,:])\n    plt.title('The individual waves in creating the packet')\n    plt.xlabel('x (m)')\n    plt.ylabel('Amplitude')\n    plt.subplot(313)\n    plt.plot(xs, waves)\n    plt.title('The wave packet')\n    plt.xlabel('x (m)')\n    plt.ylabel('Amplitude')\n    plt.subplots_adjust(top=4, bottom=0.01, left=0.1, right=3.0, hspace=0.25, wspace=0.1)\n    plt.show()\n    \n\ninteract(packet, sigma=widgets.IntSlider(min=5,max=50,step=5,value=25));",
      "execution_count": 1,
      "outputs": [
        {
          "output_type": "display_data",
          "data": {
            "application/vnd.jupyter.widget-view+json": {
              "model_id": "7c4d2a1c9b4044c5b49d68ad997b18f0",
              "version_minor": 0,
              "version_major": 2
            },
            "text/plain": "interactive(children=(IntSlider(value=25, description='sigma', max=50, min=5, step=5), Output()), _dom_classes…"
          },
          "metadata": {}
        }
      ]
    },
    {
      "metadata": {
        "trusted": false
      },
      "cell_type": "code",
      "source": "",
      "execution_count": null,
      "outputs": []
    },
    {
      "metadata": {
        "trusted": false
      },
      "cell_type": "code",
      "source": "",
      "execution_count": null,
      "outputs": []
    },
    {
      "metadata": {
        "trusted": false
      },
      "cell_type": "code",
      "source": "",
      "execution_count": null,
      "outputs": []
    }
  ],
  "metadata": {
    "kernelspec": {
      "name": "python36",
      "display_name": "Python 3.6",
      "language": "python"
    },
    "language_info": {
      "mimetype": "text/x-python",
      "nbconvert_exporter": "python",
      "name": "python",
      "pygments_lexer": "ipython3",
      "version": "3.6.6",
      "file_extension": ".py",
      "codemirror_mode": {
        "version": 3,
        "name": "ipython"
      }
    }
  },
  "nbformat": 4,
  "nbformat_minor": 2
}