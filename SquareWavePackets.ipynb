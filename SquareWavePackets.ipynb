{
  "cells": [
    {
      "metadata": {},
      "cell_type": "markdown",
      "source": "### Square Wave Packet Widget"
    },
    {
      "metadata": {
        "trusted": true
      },
      "cell_type": "code",
      "source": "# setup \nimport numpy as np\nimport sympy as sp\nsp.init_printing(use_latex='mathjax')\n\nimport matplotlib.pyplot as plt\nplt.rcParams['figure.figsize'] = (20, 20)  # (width, height)\nplt.rcParams['font.size'] = 20\nplt.rcParams['legend.fontsize'] = 30\nfrom matplotlib import patches\n\n#get_ipython().magic('matplotlib')  # separate window\nget_ipython().magic('matplotlib inline') # inline plotting\n\nfrom __future__ import print_function\nfrom ipywidgets import interact, interactive, fixed, interact_manual\nimport ipywidgets as widgets\n\ndef f(numks, aa):\n    lam = 1e-9 # wavelength\n    kval = 2*np.pi/lam # wavenumber can be changed by changing wavelength\n    #numks = x\n    #numks = 10 # how many wavenumbers do you want in the sum?\n    aa = aa*lam/100 # width of square wave as a fraction of wavelength\n    xsquare = np.arange(-2*lam, 2*lam, lam/100) # The x values for our sine waves.\n    arrlen = np.size(xsquare)\n    ksquare = np.arange(1, numks+1, 1) # wavenumbers go from 1 to something\n    nvals = np.arange(1, numks+1, 1)\n    ksquare = ksquare * kval\n    Ans = 2/np.pi/nvals * np.sin(np.pi*aa*nvals/lam)\n    fxarg = np.ones((numks,arrlen)) # Create a matrix for kx values to simplify calculations later.\n    fxarg = fxarg[:, 0:arrlen]*xsquare # Fill the kx matrix with x values along the rows.\n    fxarg = fxarg[0:arrlen, :].T*ksquare # Multiply each column by its appropriate k value.\n    fx = np.ones((numks,arrlen))\n    fx=Ans*np.cos(fxarg) # Fill the matrix with the appropriate cosine waves.\n    \n    ones = np.ones(numks)\n    sqwv = np.matmul(fx, ones) \n    plt.figure(1)\n    plt.rcParams.update({'font.size': 20})\n    plt.rcParams.update({'legend.fontsize' : 24})\n    plt.subplot(211)\n    plt.plot(xsquare,fx[:, :]) # Plot a few of the waves to check that they look right (see Fig. 6.11 in Taylor, Zafiratos, Dubson).\n    plt.title('The waves')\n    plt.xlabel('x (m)')\n    plt.ylabel('Amplitude')\n    plt.subplot(212)\n    plt.plot(xsquare, sqwv)\n    plt.title('The wave packet')\n    plt.xlabel('x (m)')\n    plt.ylabel('Amplitude')\n    plt.subplots_adjust(top=3, bottom=0.1, left=0.1, right=3.0, hspace=0.25,\n                    wspace=0.1)\n    plt.show()\n#    return 0\n\ninteract(f, numks=widgets.IntSlider(min=1,max=30,step=1,value=10), aa=widgets.IntSlider(min=5,max=95,step=5,value=5));",
      "execution_count": 1,
      "outputs": [
        {
          "output_type": "display_data",
          "data": {
            "application/vnd.jupyter.widget-view+json": {
              "model_id": "05280d808f234fad96bd7855dd5638ff",
              "version_minor": 0,
              "version_major": 2
            },
            "text/plain": "interactive(children=(IntSlider(value=10, description='numks', max=30, min=1), IntSlider(value=5, description=…"
          },
          "metadata": {}
        }
      ]
    },
    {
      "metadata": {
        "trusted": false
      },
      "cell_type": "code",
      "source": "",
      "execution_count": null,
      "outputs": []
    }
  ],
  "metadata": {
    "kernelspec": {
      "name": "python36",
      "display_name": "Python 3.6",
      "language": "python"
    },
    "language_info": {
      "mimetype": "text/x-python",
      "nbconvert_exporter": "python",
      "name": "python",
      "pygments_lexer": "ipython3",
      "version": "3.6.6",
      "file_extension": ".py",
      "codemirror_mode": {
        "version": 3,
        "name": "ipython"
      }
    }
  },
  "nbformat": 4,
  "nbformat_minor": 2
}